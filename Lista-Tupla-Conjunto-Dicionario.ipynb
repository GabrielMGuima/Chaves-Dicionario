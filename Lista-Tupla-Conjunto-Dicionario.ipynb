{
 "cells": [
  {
   "cell_type": "code",
   "execution_count": 65,
   "metadata": {},
   "outputs": [],
   "source": [
    "# .clear Paga tudo dentro de uma lista tupla conjunto ou dicionario\n",
    "\n",
    "# .copy Copia uma lista tupla conjunto ou dicionario\n",
    "\n",
    "#.pop Remove Uma chave do seu dicionario\n",
    "# ele Remove e indica o valor que foi removido\n",
    "# O .pop pode ser configurado pra retorna uma mensagem na hora que for removido o item ou não"
   ]
  },
  {
   "cell_type": "code",
   "execution_count": 16,
   "metadata": {},
   "outputs": [
    {
     "name": "stdout",
     "output_type": "stream",
     "text": [
      "Guilherme\n",
      "28\n",
      "{'nome': 'Guilherme', 'telefone': '3333-2221', 'idade': 28}\n"
     ]
    }
   ],
   "source": [
    "# .setdefault Utilizado para alterar uma chave ja existente modificando o conteudo dentro do dicionario\n",
    "# Também serve para adicionar chaves e conteudos\n",
    " \n",
    "#Exemplo \n",
    "contato = {'nome': 'Guilherme', 'telefone': '3333-2221'}\n",
    "print(contato.setdefault(\"nome\", \"Giovanna\"))  \n",
    "print(contato.setdefault(\"idade\", 28))\n",
    "print(contato)"
   ]
  },
  {
   "cell_type": "code",
   "execution_count": 11,
   "metadata": {},
   "outputs": [
    {
     "name": "stdout",
     "output_type": "stream",
     "text": [
      "{'guilherme@gmail.com': {'nome': 'Guilherme', 'telefone': '3333-2221'}}\n",
      "{'guilherme@gmail.com': {'nome': 'Gui'}, 'giovanna@gmail.com': {'nome': 'Giovanna', 'telefone': '3322-8181'}}\n"
     ]
    }
   ],
   "source": [
    "# . update Utilizado para atualizar um dicionario ja criado\n",
    "contatos= {\"guilherme@gmail.com\":{\"nome\": \"Guilherme\",\"telefone\": \"3333-2221\"}}\n",
    "print(contatos)\n",
    "contatos.update({\"guilherme@gmail.com\": {\"nome\": \"Gui\"}})\n",
    "contatos.update({\"giovanna@gmail.com\": {\"nome\": \"Giovanna\", \"telefone\": \"3322-8181\"}})\n",
    "print(contatos) "
   ]
  },
  {
   "cell_type": "code",
   "execution_count": 17,
   "metadata": {},
   "outputs": [
    {
     "data": {
      "text/plain": [
       "dict_values([{'nome': 'Guilherme', 'telefone': '3333-2221'}, {'nome': 'Giovanna', 'telefone': '3443-2121'}, {'nome': 'Chappie', 'telefone': '3344-9871'}, {'nome': 'Melaine', 'telefone': '3333-7766'}])"
      ]
     },
     "execution_count": 17,
     "metadata": {},
     "output_type": "execute_result"
    }
   ],
   "source": [
    "# .values Retorna todos os valores que tem dentro do seu dicionario sem indicar as chaves\n",
    " \n",
    "#EXemplo\n",
    "contatos = {\n",
    "    \"guilherme@gmail.com\": {\"nome\": \"Guilherme\", \"telefone\": \"3333-2221\"},\n",
    "    \"giovanna@gmail.com\": {\"nome\": \"Giovanna\", \"telefone\": \"3443-2121\"},\n",
    "    \"chappie@gmail.com\": {\"nome\": \"Chappie\", \"telefone\": \"3344-9871\"},\n",
    "    \"melaine@gmail.com\": {\"nome\": \"Melaine\", \"telefone\": \"3333-7766\"},\n",
    "}\n",
    "contatos.values()"
   ]
  },
  {
   "cell_type": "code",
   "execution_count": 20,
   "metadata": {},
   "outputs": [
    {
     "name": "stdout",
     "output_type": "stream",
     "text": [
      "True\n",
      "False\n",
      "False\n",
      "True\n"
     ]
    }
   ],
   "source": [
    "# .in Utilizado para buscar e ixibir as chaves existentes dentro de um dicionario\n",
    "\n",
    "#Exemplo\n",
    " \n",
    "contatos = {\n",
    "    \"guilherme@gmail.com\": {\"nome\": \"Guilherme\", \"telefone\": \"3333-2221\"},\n",
    "    \"giovanna@gmail.com\": {\"nome\": \"Giovanna\", \"telefone\": \"3443-2121\"},\n",
    "    \"chappie@gmail.com\": {\"nome\": \"Chappie\", \"telefone\": \"3344-9871\"},\n",
    "    \"melaine@gmail.com\": {\"nome\": \"Melaine\", \"telefone\": \"3333-7766\"},\n",
    "}\n",
    "\n",
    "print(\"guilherme@gmail.com\" in contatos)\n",
    "print(\"megui@gmail.com\" in contatos)\n",
    "print(\"idade\" in contatos[\"guilherme@gmail.com\"])\n",
    "print(\"telefone\" in contatos[\"giovanna@gmail.com\"])"
   ]
  },
  {
   "cell_type": "code",
   "execution_count": 22,
   "metadata": {},
   "outputs": [
    {
     "name": "stdout",
     "output_type": "stream",
     "text": [
      "{'guilherme@gmail.com': {'nome': 'Guilherme'}, 'giovanna@gmail.com': {'nome': 'Giovanna', 'telefone': '3443-2121'}, 'melaine@gmail.com': {'nome': 'Melaine', 'telefone': '3333-7766'}}\n"
     ]
    }
   ],
   "source": [
    "# > del < Utilizado para remover objetos dentro de um dicionario\n",
    "# Você indica pra ele o objeto que quer remover e ele sera removido\n",
    "\n",
    " \n",
    "contatos = {\n",
    "    \"guilherme@gmail.com\": {\"nome\": \"Guilherme\", \"telefone\": \"3333-2221\"},\n",
    "    \"giovanna@gmail.com\": {\"nome\": \"Giovanna\", \"telefone\": \"3443-2121\"},\n",
    "    \"chappie@gmail.com\": {\"nome\": \"Chappie\", \"telefone\": \"3344-9871\"},\n",
    "    \"melaine@gmail.com\": {\"nome\": \"Melaine\", \"telefone\": \"3333-7766\"},\n",
    "}\n",
    "\n",
    "del contatos[\"guilherme@gmail.com\"][\"telefone\"]\n",
    "del contatos[\"chappie@gmail.com\"] \n",
    "print(contatos)"
   ]
  },
  {
   "cell_type": "code",
   "execution_count": 66,
   "metadata": {},
   "outputs": [
    {
     "name": "stdout",
     "output_type": "stream",
     "text": [
      "{'nome': None, 'telefone': None}\n",
      "{'nome': 'vazil', 'telefone': 'vazil'}\n"
     ]
    }
   ],
   "source": [
    "# .fromkeys ele cria chaves para você de duas formas diferentes\n",
    "# Na 1° forma vc passa as chaves que você quer cria e essas chaves são criadas\n",
    "# Na 2° forma vc passa as chaves e um valor padrão pra por nelas\n",
    "\n",
    "list1 =dict.fromkeys(['nome','telefone'])\n",
    "print(list1)\n",
    "list2 =dict.fromkeys(['nome', 'telefone'],'vazil')\n",
    "print(list2)"
   ]
  },
  {
   "cell_type": "code",
   "execution_count": 30,
   "metadata": {},
   "outputs": [
    {
     "name": "stdout",
     "output_type": "stream",
     "text": [
      "{}\n"
     ]
    },
    {
     "data": {
      "text/plain": [
       "'Gabriel Macedo'"
      ]
     },
     "execution_count": 30,
     "metadata": {},
     "output_type": "execute_result"
    }
   ],
   "source": [
    "# .get Utilizado para buscar chaves\n",
    "# Caso ele encontre sera mostrado , caso não encontre ira retorna um dicionario vazil\n",
    "\n",
    "\n",
    "#Exemplo\n",
    "dados = {'nome': 'Gabriel Macedo','idade': 23,}\n",
    "\n",
    "Ex1=dados.get('chave',{})\n",
    "print(Ex1)\n",
    "dados.get('nome',{})\n",
    "\n"
   ]
  },
  {
   "cell_type": "code",
   "execution_count": 17,
   "metadata": {},
   "outputs": [
    {
     "name": "stdout",
     "output_type": "stream",
     "text": [
      "{'Nome': 'Gabriel Macedo Guimarães', 'Telefone1': '22_997561660'}\n"
     ]
    }
   ],
   "source": [
    "#Exemplo de Dicionario\n",
    "Contatos = {\n",
    "'Tiago':{\"Nome\":\"Tiago Soares \",\"Telefone1\":\"22_2658855260\"},\n",
    "'Tailane':{\"Nome\":\"Tailane silva \" , \"Telefone2\":\"22_55664857542\"},\n",
    "'Fulan
o':{\"Nome\": \"Fulano Bertano\" , \"Telefone\":\"22_9749525618\"},\n",
    "}\n",
    "pesquisa = input('Digite sua pesquisa')\n",
    "telefone = Contatos[pesquisa]\n",
    "print(telefone)"
   ]
  },
  {
   "cell_type": "code",
   "execution_count": 24,
   "metadata": {},
   "outputs": [
    {
     "data": {
      "text/plain": [
       "dict_items([('guilherme@gmail.com', {'nome': 'Guilherme', 'telefone': '3333-2221'})])"
      ]
     },
     "execution_count": 24,
     "metadata": {},
     "output_type": "execute_result"
    }
   ],
   "source": [
    "# .items Retorna uma lista de tuplas\n",
    "# Muito Util na hr de usar for\n",
    "\n",
    "#Exemplo \n",
    "contatos = {\"guilherme@gmail.com\": {\"nome\": \"Guilherme\",\"telefone\": \"3333-2221\"}}\n",
    "contatos.items()"
   ]
  }
 ],
 "metadata": {
  "kernelspec": {
   "display_name": "Python 3",
   "language": "python",
   "name": "python3"
  },
  "language_info": {
   "codemirror_mode": {
    "name": "ipython",
    "version": 3
   },
   "file_extension": ".py",
   "mimetype": "text/x-python",
   "name": "python",
   "nbconvert_exporter": "python",
   "pygments_lexer": "ipython3",
   "version": "3.8.10"
  }
 },
 "nbformat": 4,
 "nbformat_minor": 2
}
