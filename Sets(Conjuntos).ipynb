{
 "cells": [
  {
   "cell_type": "code",
   "execution_count": null,
   "metadata": {},
   "outputs": [],
   "source": [
    "# Um Set(conjunto) é uma coleção que não possui objetos repetidos, usamos sets(conjuntos) \n",
    "# para representar conjuntos matemáticos ou eliminar itens duplicados d eum iterável.\n",
    "# A ordem dos elementos men sempre ira vim de forma Ordenada \n",
    "\n",
    "# Exemplo de Set(conjunto)\n",
    "\n",
    "L1 = set ([3,2,33,72,1,11,1,2,3,7,4,8,9,4,5,6,5,6]) \n",
    "print(L1)\n",
    "\n",
    "L2 = set('abacaxi')\n",
    "print(L2)\n",
    "\n",
    "L3= set(('gol','palio','gol','celta','palio'))\n",
    "print (L3)\n"
   ]
  },
  {
   "cell_type": "code",
   "execution_count": null,
   "metadata": {},
   "outputs": [],
   "source": [
    "# Conjuntos em Python não suportam indexação e nem fatiamento,\n",
    "# caso queira acessar os seus valores é necessário converter o conjunto para lista.\n",
    "\n",
    "numeros = {3,2,33,72,1,11,1,2,3,7,4,8,9,4,5,6,5,6}\n",
    "numeros = list(numeros)\n",
    "numeros[7] \n",
    "# o set(Conjuto) vai se basear na lista ja eliminando os valores repitidos {33, 2, 3, 1, 4, 5, 7, 72, 8, 9, 11, 6}\n"
   ]
  },
  {
   "cell_type": "code",
   "execution_count": null,
   "metadata": {},
   "outputs": [],
   "source": [
    "#Método > .union() < Utilizado para unir sets(conjuntos)\n",
    "\n",
    "conjunto_a = {1,4,6}\n",
    "conjunto_b = {2,5,3,}\n",
    "\n",
    "conjunto_a.union(conjunto_b)"
   ]
  },
  {
   "cell_type": "code",
   "execution_count": null,
   "metadata": {},
   "outputs": [],
   "source": [
    "# Método > .intersection() < Utilizado para fazer interseção dos conjuntos, mostrando apenas os elementos que são iguais\n",
    "\n",
    "conjunto_a = {1,4,3}\n",
    "conjunto_b = {2,1,15,3,}\n",
    "\n",
    "conjunto_a.intersection(conjunto_b)"
   ]
  },
  {
   "cell_type": "code",
   "execution_count": null,
   "metadata": {},
   "outputs": [],
   "source": [
    "# Método > .difference() < Utilizado para tirar a diferença entre os dois conjuntos\n",
    "\n",
    "# Exemplo\n",
    "conjunto_a = {1,4,3}\n",
    "conjunto_b = {2,1,15,3,}\n",
    "\n",
    "print(conjunto_a.difference(conjunto_b)) # Oque tem no >A< que não tem no >B<\n",
    "print(conjunto_b.difference(conjunto_a)) # Oque tem no >B< que não tem no >A<"
   ]
  },
  {
   "cell_type": "code",
   "execution_count": null,
   "metadata": {},
   "outputs": [],
   "source": [
    "# Método > .symmetric_difference < Utilizado para tirar a diferença entre os dois conjuntos de forma mais direta \n",
    "\n",
    "# Exemplo\n",
    "conjunto_a = {1,4,3}\n",
    "conjunto_b = {2,1,15,3,}\n",
    "\n",
    "conjunto_a.symmetric_difference(conjunto_b)"
   ]
  },
  {
   "cell_type": "code",
   "execution_count": null,
   "metadata": {},
   "outputs": [],
   "source": [
    "# Método > .issubset() < Utilizado para dizer se um conjunto pertence ou não pertence ao outro\n",
    "# Método >.issuperset() < Utilizado também para dizer se elementos de um conjunto esta no outro\n",
    "conjunto_a = {1,15,3}\n",
    "conjunto_b = {2,1,15,3,}\n",
    "\n",
    "#Exemplo de > inssubset() <\n",
    "print(conjunto_a.issubset(conjunto_b)) # Verdadeiro Portanto True\n",
    "print(conjunto_b.issubset(conjunto_a)) # Falso Portanto False\n",
    "\n",
    "print('--------------------------')\n",
    "#Exemplo de > .issuperset() < \n",
    "print(conjunto_a.issuperset(conjunto_b)) # Falso Portanto False\n",
    "print(conjunto_b.issuperset(conjunto_a)) # Verdadeiro Portanto True"
   ]
  },
  {
   "cell_type": "code",
   "execution_count": null,
   "metadata": {},
   "outputs": [],
   "source": [
    "# Método >.isdisjoint() < Utilizado para  fazer operação de conjuntos dijunto\n",
    "# Ou seja todos os elementos de um conjunto não estão presentes no outro \n",
    "\n",
    "#Exemplo\n",
    "conjunto_a = {6,17,4}\n",
    "conjunto_b = {2,1,15,3,}\n",
    "conjunto_c = {2,4,1,15}\n",
    "\n",
    "print(conjunto_a.isdisjoint(conjunto_b)) # Verdadeiro Portanto True\n",
    "print(conjunto_b.isdisjoint(conjunto_a)) # Verdadeiro Portanto True\n",
    "print(conjunto_a.isdisjoint(conjunto_c)) # Falso Portanto False\n",
    "print(conjunto_b.isdisjoint(conjunto_c)) # Falso Portanto False\n"
   ]
  },
  {
   "cell_type": "code",
   "execution_count": 64,
   "metadata": {},
   "outputs": [
    {
     "name": "stdout",
     "output_type": "stream",
     "text": [
      "{1, 2, 3, 4}\n",
      "{1, 2, 3, 4, 35}\n"
     ]
    }
   ],
   "source": [
    "# Método > .add() < Utilizado para adicionar um elemento ao conjunto\n",
    "# Não podendo ser um elemento repitido\n",
    "\n",
    "conjunto = {1,3,4}\n",
    "conjunto.add(2)\n",
    "conjunto.add(2) # Não adiciona elementos repetidos\n",
    "print(conjunto)\n",
    "\n",
    "conjunto.add(35) # Somente Adiciona elementos diferentes\n",
    "print(conjunto) "
   ]
  },
  {
   "cell_type": "code",
   "execution_count": 130,
   "metadata": {},
   "outputs": [
    {
     "name": "stdout",
     "output_type": "stream",
     "text": [
      "None\n"
     ]
    }
   ],
   "source": [
    "# Método > .clear() < Utilizado pra limpar um conjunto tirando todos os elementos de dentro dele\n",
    "\n",
    "#Exemplo\n",
    "conjunto = {2,1,15,3,}\n",
    "print(conjunto.clear())"
   ]
  },
  {
   "cell_type": "code",
   "execution_count": 128,
   "metadata": {},
   "outputs": [
    {
     "name": "stdout",
     "output_type": "stream",
     "text": [
      "{3, 2, 19, 15}\n"
     ]
    }
   ],
   "source": [
    "# Método > .copy() < Utilizado para copiar um conjunto copiando todos os elementos do conjunto\n",
    "\n",
    "#Exemplo\n",
    "lista = {2,15,19,3,}\n",
    "copia = lista.copy()\n",
    "print(copia)"
   ]
  },
  {
   "cell_type": "code",
   "execution_count": 10,
   "metadata": {},
   "outputs": [
    {
     "name": "stdout",
     "output_type": "stream",
     "text": [
      "{3, 19, 15}\n"
     ]
    }
   ],
   "source": [
    "# Método > .discard() < Utilizado para remover um elemento de um conjunto\n",
    "# Também pode ser usado o remove a diferença e que se o elemento que você mandar ser removido\n",
    "# não existir na lista usando o remove vai dar um erro e usando o discard ele so repete a lista ou conjunto\n",
    "\n",
    "\n",
    "#Exemplo\n",
    "lista = {2,15,19,3,}\n",
    "lista.discard(2)\n",
    "print(lista)"
   ]
  },
  {
   "cell_type": "code",
   "execution_count": 40,
   "metadata": {},
   "outputs": [
    {
     "name": "stdout",
     "output_type": "stream",
     "text": [
      "{3, 2, 19, 15}\n",
      "{2, 19, 15}\n"
     ]
    }
   ],
   "source": [
    "# Método > .pop() < Utilizado para remover o primeiro elemento de um conjunto\n",
    "\n",
    "#Exemplo\n",
    "lista = { 2, 15, 19, 3,}\n",
    "print(lista) \n",
    "lista.pop()\n",
    "print(lista)\n",
    "\n",
    "#Lembrando que o comando sempre respeita a ordem em que o conjunto define é não a ordem em que vc colocou os elementos"
   ]
  }
 ],
 "metadata": {
  "kernelspec": {
   "display_name": "Python 3",
   "language": "python",
   "name": "python3"
  },
  "language_info": {
   "codemirror_mode": {
    "name": "ipython",
    "version": 3
   },
   "file_extension": ".py",
   "mimetype": "text/x-python",
   "name": "python",
   "nbconvert_exporter": "python",
   "pygments_lexer": "ipython3",
   "version": "3.8.10"
  }
 },
 "nbformat": 4,
 "nbformat_minor": 2
}
