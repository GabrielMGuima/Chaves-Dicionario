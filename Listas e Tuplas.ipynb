{
 "cells": [
  {
   "cell_type": "code",
   "execution_count": null,
   "metadata": {},
   "outputs": [],
   "source": [
    "# listas em Python podem armazenar de maneira sequencial qualquer tipo de objeto. Podemos criar listas utilizando\n",
    "# O construtor list, a função range ou colocando valores separados por vírgula dentro de colchetes.\n",
    "# Listas são objetos mutáveis, portanto podemos alterar seus valores após a criação.\n",
    "\n",
    "# Tuplas são estruturas de dados muito parecidas com as listas,\n",
    "# A principal diferença é que tuplas são imutáveis, portanto não podemos alterar seus valores após a criação.\n",
    "\n",
    "\n"
   ]
  },
  {
   "cell_type": "code",
   "execution_count": null,
   "metadata": {},
   "outputs": [],
   "source": [
    "# Exemplos de Listas\n",
    "\n",
    "frutas = ['laranja','pera','abacaxi','morango']\n",
    "\n",
    "frutas = []\n",
    "\n",
    "letras=list('Python')\n",
    "\n",
    "numeros=list(range(10))\n",
    "\n",
    "carros= ['ferrari','f8','fusca','celta']"
   ]
  },
  {
   "cell_type": "code",
   "execution_count": null,
   "metadata": {},
   "outputs": [],
   "source": [
    "# Listas podem armazenar todos os tipos de objetos Python, portanto podemos ter tuplas que armazenam outras tuplas.\n",
    "# Com isso podemos criar estruturas bidimensionais (tabelas), e acessar informando os índices de linha e coluna.\n",
    "# A lista é uma sequência, portanto podemos acessar seus dados utilizando índices.\n",
    "\n",
    "matriz = (\n",
    "    (1, 'a', 2),\n",
    "    ('b', 3, 4),\n",
    "    (6, 5, 'c'),\n",
    ")\n",
    "matriz [0] # (1, 'a', 2)\n",
    "matriz[0][0] # 1\n",
    "matriz [0][-1] #2\n",
    "matriz [-1][-1] # 'c'"
   ]
  },
  {
   "cell_type": "code",
   "execution_count": null,
   "metadata": {},
   "outputs": [],
   "source": []
  },
  {
   "cell_type": "code",
   "execution_count": null,
   "metadata": {},
   "outputs": [],
   "source": [
    "# Exemplos de Tuplas\n",
    "frutas =('Laranja','Pera''Abacate',)\n",
    "letras = tuple('Python')\n",
    "num = tuple([4,5,7,3,9,1,9])\n",
    "geo = ('Brasil,India',)"
   ]
  },
  {
   "cell_type": "code",
   "execution_count": null,
   "metadata": {},
   "outputs": [],
   "source": [
    "# Contamos o índice e determinada sequência a partir do zero.\n",
    "\n",
    "frutas = ('maçã','laranja','uva','pera',)\n",
    "frutas[0] # Maçã\n",
    "frutas[2] # Uva\n",
    "\n",
    "# Sequências suportam indexação negativa. A contagem começa em -1\n",
    "\n",
    "frutas = ('maçã','laranja','uva','pera',)\n",
    "frutas[-1] # pera\n",
    "frutas[-3] # laranja\n",
    "\n"
   ]
  },
  {
   "cell_type": "code",
   "execution_count": null,
   "metadata": {},
   "outputs": [],
   "source": [
    "# Tuplas podem armazenar todos os tipos de objetos Python, portanto podemos ter tuplas que armazenam outras tuplas.\n",
    "# Com isso podemos criar estruturas bidimensionais (tabelas), e acessar informando os índices de linha e coluna.\n",
    "\n",
    "# Exemplo\n",
    "\n",
    "matriz = (\n",
    "    (1, 'a', 2),\n",
    "    ('b', 3, 4),\n",
    "    (6, 5, 'c'),\n",
    ")\n",
    "matriz [0] # (1, 'a', 2)\n",
    "matriz[0][0] # 1\n",
    "matriz [0][-1] #2\n",
    "matriz [-1][-1] # 'c'"
   ]
  },
  {
   "cell_type": "code",
   "execution_count": null,
   "metadata": {},
   "outputs": [],
   "source": [
    "# Além de acessar elementos diretamente, podemos extrair um conjunto de valores de uma sequência.\n",
    "# Para isso basta passar o índice inicial e/ou final para acessar o conjunto. Podemos ainda informar quantas posições o cursor deve \"pular\" no acesso.\n",
    "\n",
    "# Exemplo\n",
    "\n",
    "tupla = ('p','y','t','h','o','n')\n",
    "t1 = tupla[2:]\n",
    "print(t1)\n",
    "t2=tupla[:2]\n",
    "print(t2)\n",
    "t3=tupla[1:3]\n",
    "print(t3)\n",
    "t4=tupla[::-1]\n",
    "print(t4)\n",
    "t5=tupla[::]\n",
    "print(t5)\n",
    "t6=tupla[0:3:2]\n",
    "print(t6)\n",
    "\n",
    "print('____________________________________________________________')\n",
    "# A forma mais comum para percorrer os dados de uma Tupla ou Lista é ultilizando o comando for.\n",
    "\n",
    "#Exemplo\n",
    "\n",
    "carros = ('gol', 'celta','palio',)\n",
    "\n",
    "for carro in carros:\n",
    "    print(carro)\n",
    "\n",
    "print('____________________________________________________________')\n",
    "\n",
    "# Ás vezes é necessário saber qual o índice do objeto dentro do laço for. Para isso podemos usar a função enumerate.\n",
    "\n",
    "carros = ('gol', 'celta','palio',)\n",
    "for indice, carro in enumerate(carros):\n",
    "    print(f'{indice}:{carro}')\n",
    "\n",
    "print('____________________________________________________________')"
   ]
  },
  {
   "cell_type": "code",
   "execution_count": null,
   "metadata": {},
   "outputs": [],
   "source": [
    "# A compreensão de lista oferece uma sintaxe mais curta quando você deseja: criar uma nova lista com base nos valores de\n",
    "# uma lista existente(filtrar) ou gerar uma nova lista aplicando alguma modificação nos elementos de uma lista existente.\n"
   ]
  },
  {
   "cell_type": "code",
   "execution_count": null,
   "metadata": {},
   "outputs": [],
   "source": [
    "# Método > .append() < Utilizado para adicionar elementos a uma lista \n",
    "# Método > .extend() < Utilizado para adicionar uma lista dentro de outra\n",
    "\n",
    "# Exemplo de > .append <\n",
    "carros = ['gol','celta','palio']\n",
    "carro = ['ciena','corola']\n",
    "carros.append(carro)\n",
    "print(carros)\n",
    "\n",
    "print('--------------------------------')\n",
    "\n",
    "#Exemplo de  > .extend <\n",
    "\n",
    "carros = ['gol','celta','palio']\n",
    "carro = ['ciena','corola','monza']\n",
    "carros.extend(carro)\n",
    "print(carros)"
   ]
  },
  {
   "cell_type": "code",
   "execution_count": null,
   "metadata": {},
   "outputs": [],
   "source": [
    "# Método > .pop() < Utilizado para remover o ultimo elemento da lista \n",
    "# tambem pode ser ultilizado para remover um elemento especifico\n",
    "\n",
    "# Exemplo \n",
    "\n",
    "carro = ['ciena','corola','monza']\n",
    "carro.pop()\n",
    "print(carro)\n",
    "\n",
    "carro = ['ciena','corola','monza']\n",
    "carro.pop(1)\n",
    "print(carro)"
   ]
  },
  {
   "cell_type": "code",
   "execution_count": null,
   "metadata": {},
   "outputs": [],
   "source": [
    "# Método > .clear() < Utilizado para limpar uma lista, zerar todos os elementos dentro dela\n",
    "\n",
    "# Exemplo\n",
    "\n",
    "cores = ['Red','Blue','Green','Blue','Red','Red']\n",
    "print(cores)\n",
    "lista= cores.clear()\n",
    "print(lista)"
   ]
  },
  {
   "cell_type": "code",
   "execution_count": null,
   "metadata": {},
   "outputs": [],
   "source": [
    "# Método > .remove() < Utilizado para remover um ou mais elementos dentro de uma lista\n",
    "\n",
    "# Exemplo\n",
    "\n",
    "carro = ['ciena','corola','monza']\n",
    "carro.remove('ciena')\n",
    "print(carro)"
   ]
  },
  {
   "cell_type": "code",
   "execution_count": null,
   "metadata": {},
   "outputs": [],
   "source": [
    "# Método > .reverse() < Utilizado para inverter uma lista\n",
    "\n",
    "# Exemplo\n",
    "\n",
    "carro = ['ciena','corola','monza']\n",
    "carro.reverse()\n",
    "print(carro)"
   ]
  },
  {
   "cell_type": "code",
   "execution_count": null,
   "metadata": {},
   "outputs": [],
   "source": []
  },
  {
   "cell_type": "code",
   "execution_count": null,
   "metadata": {},
   "outputs": [],
   "source": [
    "# Método > .copy() < Utilizado para copiar uma lista ja existente\n",
    "\n",
    "# Exemplo\n",
    "\n",
    "lista=[1,5,6,'fofura','coelho',[20,55,83]]\n",
    "print(lista)\n",
    "copia = lista.copy()\n",
    "print(copia)"
   ]
  },
  {
   "cell_type": "code",
   "execution_count": null,
   "metadata": {},
   "outputs": [],
   "source": [
    "# Método  > .count() < Utilizado para contar quantos itens do mesmo existem\n",
    "\n",
    "# Exemplo\n",
    "\n",
    "cores = ('Red','Blue','Green','Blue','Red','Red')\n",
    "\n",
    "red = cores.count('Red')\n",
    "print(red)\n",
    "blue = cores.count('Blue')\n",
    "print(blue)\n",
    "green = cores.count('Green')\n",
    "print(green)\n"
   ]
  },
  {
   "cell_type": "code",
   "execution_count": null,
   "metadata": {},
   "outputs": [],
   "source": [
    "# Método > .index() < Utilizado para indicar o índice de um elemento.\n",
    "\n",
    "# Exemplo\n",
    "\n",
    "linguagens = ('Python','Js','C','Java','Csharp')\n",
    "linguagens.index('Java') # 3\n",
    "linguagens.index('Python') #0"
   ]
  },
  {
   "cell_type": "code",
   "execution_count": null,
   "metadata": {},
   "outputs": [],
   "source": [
    "# Método > len() Utilizado para contar quantos itens existem em uma lista, tupla ou conjunto\n",
    "\n",
    "# Exemplo\n",
    "linguagens = ('Python','Js','C','Java','Csharp')\n",
    "cores = ('Red','Blue','Green','Blue','Red','Red')\n",
    "carros = ('gol', 'celta','palio',)\n",
    "\n",
    "Linguagens = len(linguagens)\n",
    "print(Linguagens)\n",
    "Cores = len(cores)\n",
    "print(Cores)\n",
    "Carros =len(carros)\n",
    "print(Carros)"
   ]
  },
  {
   "cell_type": "code",
   "execution_count": null,
   "metadata": {},
   "outputs": [],
   "source": [
    "# Método > .sort() < Utilizado para ordenar uma lista em ordem alfabetica\n",
    "# Função > sorted() < Utilizado também para ordenar uma lista em ordem alfabetica\n",
    "\n",
    "\n",
    "# Exemplo de > .sort <\n",
    "\n",
    "abc = ['a','b','w','y','h','g','c','d','e','f','g','Crogodilo','Gato','Pato','Jacare']\n",
    "abc.sort()\n",
    "print(abc)\n",
    "\n",
    "abc.sort(reverse=True) # Inverte a Ordem deixam ao contrario\n",
    "print(abc)\n",
    "\n",
    "abc.sort(key=lambda x:len(x)) # Ordena os elementos por tamanho do menor pro maior\n",
    "print(abc)\n",
    "\n",
    "abc.sort(key=lambda x:len(x),reverse=True) # Vai Ordenar os elementos por tamanho Do Maior Pro menor \n",
    "print(abc)\n",
    "\n",
    "print('------------------------------------------------------------------------------')\n",
    "\n",
    "# Exemplo de > sorted < \n",
    "\n",
    "abc = ['a','b','w','y','h','g','c','d','e','f','g','Crogodilo','Gato','Pato','Jacare']\n",
    "\n",
    "print(sorted(abc)) # Ordenando por tamanho Maior para menor em ordem alfabetica\n",
    "print(sorted(abc,reverse=True)) # Ordenando por tamanho menor para maior em ordem alfabetica"
   ]
  }
 ],
 "metadata": {
  "kernelspec": {
   "display_name": "Python 3",
   "language": "python",
   "name": "python3"
  },
  "language_info": {
   "codemirror_mode": {
    "name": "ipython",
    "version": 3
   },
   "file_extension": ".py",
   "mimetype": "text/x-python",
   "name": "python",
   "nbconvert_exporter": "python",
   "pygments_lexer": "ipython3",
   "version": "3.8.10"
  }
 },
 "nbformat": 4,
 "nbformat_minor": 2
}
